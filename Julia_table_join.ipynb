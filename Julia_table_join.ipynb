{
 "cells": [
  {
   "cell_type": "code",
   "execution_count": 1,
   "id": "2752322d-1abf-493c-a2d5-f24e81f9421d",
   "metadata": {},
   "outputs": [
    {
     "name": "stderr",
     "output_type": "stream",
     "text": [
      "\u001b[32m\u001b[1m    Updating\u001b[22m\u001b[39m registry at `~/.julia/registries/General.toml`\n",
      "\u001b[32m\u001b[1m   Resolving\u001b[22m\u001b[39m package versions...\n",
      "\u001b[32m\u001b[1m  No Changes\u001b[22m\u001b[39m to `~/.julia/environments/v1.7/Project.toml`\n",
      "\u001b[32m\u001b[1m  No Changes\u001b[22m\u001b[39m to `~/.julia/environments/v1.7/Manifest.toml`\n",
      "\u001b[32m\u001b[1m   Resolving\u001b[22m\u001b[39m package versions...\n",
      "\u001b[32m\u001b[1m  No Changes\u001b[22m\u001b[39m to `~/.julia/environments/v1.7/Project.toml`\n",
      "\u001b[32m\u001b[1m  No Changes\u001b[22m\u001b[39m to `~/.julia/environments/v1.7/Manifest.toml`\n"
     ]
    }
   ],
   "source": [
    "import Pkg; Pkg.add(\"CSV\"); Pkg.add(\"DataFrames\")"
   ]
  },
  {
   "cell_type": "code",
   "execution_count": 2,
   "id": "78a70447-7845-41bf-ab4c-bee8a8613140",
   "metadata": {},
   "outputs": [
    {
     "name": "stderr",
     "output_type": "stream",
     "text": [
      "\u001b[32m\u001b[1m   Resolving\u001b[22m\u001b[39m package versions...\n",
      "\u001b[32m\u001b[1m  No Changes\u001b[22m\u001b[39m to `~/.julia/environments/v1.7/Project.toml`\n",
      "\u001b[32m\u001b[1m  No Changes\u001b[22m\u001b[39m to `~/.julia/environments/v1.7/Manifest.toml`\n"
     ]
    }
   ],
   "source": [
    "Pkg.add(\"BenchmarkTools\")"
   ]
  },
  {
   "cell_type": "code",
   "execution_count": 3,
   "id": "1ea31339-b5d9-43aa-96d4-1b52657c8d0c",
   "metadata": {},
   "outputs": [],
   "source": [
    "using CSV\n",
    "using DataFrames\n",
    "using BenchmarkTools"
   ]
  },
  {
   "cell_type": "code",
   "execution_count": 4,
   "id": "6b8baac1-ca73-4994-ae39-7b959c51e4d3",
   "metadata": {},
   "outputs": [
    {
     "data": {
      "text/plain": [
       "20"
      ]
     },
     "execution_count": 4,
     "metadata": {},
     "output_type": "execute_result"
    }
   ],
   "source": [
    "BenchmarkTools.DEFAULT_PARAMETERS.seconds = 20"
   ]
  },
  {
   "cell_type": "code",
   "execution_count": 6,
   "id": "25043474-4591-4fd2-911e-2a6b33ab5eb0",
   "metadata": {
    "tags": []
   },
   "outputs": [
    {
     "data": {
      "text/html": [
       "<div class=\"data-frame\"><p>400,000 rows × 42 columns (omitted printing of 33 columns)</p><table class=\"data-frame\"><thead><tr><th></th><th>Column1</th><th>pcd</th><th>pcd2</th><th>pcds</th><th>dointr</th><th>doterm</th><th>usertype</th><th>oseast1m</th><th>osnrth1m</th></tr><tr><th></th><th title=\"Int64\">Int64</th><th title=\"String7\">String7</th><th title=\"String15\">String15</th><th title=\"String15\">String15</th><th title=\"Int64\">Int64</th><th title=\"Union{Missing, Float64}\">Float64?</th><th title=\"Int64\">Int64</th><th title=\"Union{Missing, Float64}\">Float64?</th><th title=\"Union{Missing, Float64}\">Float64?</th></tr></thead><tbody><tr><th>1</th><td>0</td><td>AB1 0AA</td><td>AB1  0AA</td><td>AB1 0AA</td><td>198001</td><td>199606.0</td><td>0</td><td>385386.0</td><td>801193.0</td></tr><tr><th>2</th><td>1</td><td>AB1 0AB</td><td>AB1  0AB</td><td>AB1 0AB</td><td>198001</td><td>199606.0</td><td>0</td><td>385177.0</td><td>801314.0</td></tr><tr><th>3</th><td>2</td><td>AB1 0AD</td><td>AB1  0AD</td><td>AB1 0AD</td><td>198001</td><td>199606.0</td><td>0</td><td>385053.0</td><td>801092.0</td></tr><tr><th>4</th><td>3</td><td>AB1 0AE</td><td>AB1  0AE</td><td>AB1 0AE</td><td>199402</td><td>199606.0</td><td>0</td><td>384600.0</td><td>799300.0</td></tr><tr><th>5</th><td>4</td><td>AB1 0AF</td><td>AB1  0AF</td><td>AB1 0AF</td><td>199012</td><td>199207.0</td><td>1</td><td>384460.0</td><td>800660.0</td></tr><tr><th>6</th><td>5</td><td>AB1 0AG</td><td>AB1  0AG</td><td>AB1 0AG</td><td>199012</td><td>199207.0</td><td>1</td><td>383890.0</td><td>800710.0</td></tr><tr><th>7</th><td>6</td><td>AB1 0AJ</td><td>AB1  0AJ</td><td>AB1 0AJ</td><td>198001</td><td>199606.0</td><td>0</td><td>384779.0</td><td>800921.0</td></tr><tr><th>8</th><td>7</td><td>AB1 0AL</td><td>AB1  0AL</td><td>AB1 0AL</td><td>198001</td><td>199606.0</td><td>0</td><td>384669.0</td><td>801228.0</td></tr><tr><th>9</th><td>8</td><td>AB1 0AN</td><td>AB1  0AN</td><td>AB1 0AN</td><td>198001</td><td>199606.0</td><td>1</td><td>385225.0</td><td>800757.0</td></tr><tr><th>10</th><td>9</td><td>AB1 0AP</td><td>AB1  0AP</td><td>AB1 0AP</td><td>198001</td><td>199606.0</td><td>0</td><td>385208.0</td><td>800834.0</td></tr><tr><th>11</th><td>10</td><td>AB1 0AQ</td><td>AB1  0AQ</td><td>AB1 0AQ</td><td>198001</td><td>199606.0</td><td>0</td><td>384800.0</td><td>800870.0</td></tr><tr><th>12</th><td>11</td><td>AB1 0AR</td><td>AB1  0AR</td><td>AB1 0AR</td><td>198001</td><td>199606.0</td><td>0</td><td>386474.0</td><td>800063.0</td></tr><tr><th>13</th><td>12</td><td>AB1 0AS</td><td>AB1  0AS</td><td>AB1 0AS</td><td>198001</td><td>199606.0</td><td>0</td><td>385889.0</td><td>799228.0</td></tr><tr><th>14</th><td>13</td><td>AB1 0AT</td><td>AB1  0AT</td><td>AB1 0AT</td><td>198001</td><td>199606.0</td><td>0</td><td>385568.0</td><td>799837.0</td></tr><tr><th>15</th><td>14</td><td>AB1 0AX</td><td>AB1  0AX</td><td>AB1 0AX</td><td>198001</td><td>199606.0</td><td>0</td><td>385079.0</td><td>800549.0</td></tr><tr><th>16</th><td>15</td><td>AB1 0BA</td><td>AB1  0BA</td><td>AB1 0BA</td><td>198001</td><td>199606.0</td><td>0</td><td>384593.0</td><td>799996.0</td></tr><tr><th>17</th><td>16</td><td>AB1 0BB</td><td>AB1  0BB</td><td>AB1 0BB</td><td>198001</td><td>199606.0</td><td>0</td><td>384426.0</td><td>799509.0</td></tr><tr><th>18</th><td>17</td><td>AB1 0BD</td><td>AB1  0BD</td><td>AB1 0BD</td><td>198001</td><td>199606.0</td><td>0</td><td>383801.0</td><td>798711.0</td></tr><tr><th>19</th><td>18</td><td>AB1 0BE</td><td>AB1  0BE</td><td>AB1 0BE</td><td>199103</td><td>199606.0</td><td>0</td><td>384495.0</td><td>799987.0</td></tr><tr><th>20</th><td>19</td><td>AB1 0BJ</td><td>AB1  0BJ</td><td>AB1 0BJ</td><td>198001</td><td>199606.0</td><td>0</td><td>384198.0</td><td>798965.0</td></tr><tr><th>21</th><td>20</td><td>AB1 0BL</td><td>AB1  0BL</td><td>AB1 0BL</td><td>198001</td><td>199606.0</td><td>0</td><td>385153.0</td><td>799019.0</td></tr><tr><th>22</th><td>21</td><td>AB1 0BN</td><td>AB1  0BN</td><td>AB1 0BN</td><td>198001</td><td>199606.0</td><td>0</td><td>384454.0</td><td>797616.0</td></tr><tr><th>23</th><td>22</td><td>AB1 0BP</td><td>AB1  0BP</td><td>AB1 0BP</td><td>198001</td><td>199606.0</td><td>0</td><td>383592.0</td><td>797390.0</td></tr><tr><th>24</th><td>23</td><td>AB1 0BQ</td><td>AB1  0BQ</td><td>AB1 0BQ</td><td>198001</td><td>199606.0</td><td>0</td><td>382833.0</td><td>797458.0</td></tr><tr><th>25</th><td>24</td><td>AB1 0BR</td><td>AB1  0BR</td><td>AB1 0BR</td><td>198001</td><td>199606.0</td><td>0</td><td>383218.0</td><td>796825.0</td></tr><tr><th>26</th><td>25</td><td>AB1 0BS</td><td>AB1  0BS</td><td>AB1 0BS</td><td>198001</td><td>199606.0</td><td>0</td><td>384007.0</td><td>795624.0</td></tr><tr><th>27</th><td>26</td><td>AB1 0BT</td><td>AB1  0BT</td><td>AB1 0BT</td><td>198001</td><td>199606.0</td><td>0</td><td>384932.0</td><td>796254.0</td></tr><tr><th>28</th><td>27</td><td>AB1 0BX</td><td>AB1  0BX</td><td>AB1 0BX</td><td>198001</td><td>199606.0</td><td>0</td><td>385814.0</td><td>797610.0</td></tr><tr><th>29</th><td>28</td><td>AB1 0BY</td><td>AB1  0BY</td><td>AB1 0BY</td><td>198605</td><td>199606.0</td><td>0</td><td>385753.0</td><td>799055.0</td></tr><tr><th>30</th><td>29</td><td>AB1 0BZ</td><td>AB1  0BZ</td><td>AB1 0BZ</td><td>198605</td><td>199606.0</td><td>0</td><td>385637.0</td><td>799105.0</td></tr><tr><th>&vellip;</th><td>&vellip;</td><td>&vellip;</td><td>&vellip;</td><td>&vellip;</td><td>&vellip;</td><td>&vellip;</td><td>&vellip;</td><td>&vellip;</td><td>&vellip;</td></tr></tbody></table></div>"
      ],
      "text/latex": [
       "\\begin{tabular}{r|cccccccccc}\n",
       "\t& Column1 & pcd & pcd2 & pcds & dointr & doterm & usertype & oseast1m & osnrth1m & \\\\\n",
       "\t\\hline\n",
       "\t& Int64 & String7 & String15 & String15 & Int64 & Float64? & Int64 & Float64? & Float64? & \\\\\n",
       "\t\\hline\n",
       "\t1 & 0 & AB1 0AA & AB1  0AA & AB1 0AA & 198001 & 199606.0 & 0 & 385386.0 & 801193.0 & $\\dots$ \\\\\n",
       "\t2 & 1 & AB1 0AB & AB1  0AB & AB1 0AB & 198001 & 199606.0 & 0 & 385177.0 & 801314.0 & $\\dots$ \\\\\n",
       "\t3 & 2 & AB1 0AD & AB1  0AD & AB1 0AD & 198001 & 199606.0 & 0 & 385053.0 & 801092.0 & $\\dots$ \\\\\n",
       "\t4 & 3 & AB1 0AE & AB1  0AE & AB1 0AE & 199402 & 199606.0 & 0 & 384600.0 & 799300.0 & $\\dots$ \\\\\n",
       "\t5 & 4 & AB1 0AF & AB1  0AF & AB1 0AF & 199012 & 199207.0 & 1 & 384460.0 & 800660.0 & $\\dots$ \\\\\n",
       "\t6 & 5 & AB1 0AG & AB1  0AG & AB1 0AG & 199012 & 199207.0 & 1 & 383890.0 & 800710.0 & $\\dots$ \\\\\n",
       "\t7 & 6 & AB1 0AJ & AB1  0AJ & AB1 0AJ & 198001 & 199606.0 & 0 & 384779.0 & 800921.0 & $\\dots$ \\\\\n",
       "\t8 & 7 & AB1 0AL & AB1  0AL & AB1 0AL & 198001 & 199606.0 & 0 & 384669.0 & 801228.0 & $\\dots$ \\\\\n",
       "\t9 & 8 & AB1 0AN & AB1  0AN & AB1 0AN & 198001 & 199606.0 & 1 & 385225.0 & 800757.0 & $\\dots$ \\\\\n",
       "\t10 & 9 & AB1 0AP & AB1  0AP & AB1 0AP & 198001 & 199606.0 & 0 & 385208.0 & 800834.0 & $\\dots$ \\\\\n",
       "\t11 & 10 & AB1 0AQ & AB1  0AQ & AB1 0AQ & 198001 & 199606.0 & 0 & 384800.0 & 800870.0 & $\\dots$ \\\\\n",
       "\t12 & 11 & AB1 0AR & AB1  0AR & AB1 0AR & 198001 & 199606.0 & 0 & 386474.0 & 800063.0 & $\\dots$ \\\\\n",
       "\t13 & 12 & AB1 0AS & AB1  0AS & AB1 0AS & 198001 & 199606.0 & 0 & 385889.0 & 799228.0 & $\\dots$ \\\\\n",
       "\t14 & 13 & AB1 0AT & AB1  0AT & AB1 0AT & 198001 & 199606.0 & 0 & 385568.0 & 799837.0 & $\\dots$ \\\\\n",
       "\t15 & 14 & AB1 0AX & AB1  0AX & AB1 0AX & 198001 & 199606.0 & 0 & 385079.0 & 800549.0 & $\\dots$ \\\\\n",
       "\t16 & 15 & AB1 0BA & AB1  0BA & AB1 0BA & 198001 & 199606.0 & 0 & 384593.0 & 799996.0 & $\\dots$ \\\\\n",
       "\t17 & 16 & AB1 0BB & AB1  0BB & AB1 0BB & 198001 & 199606.0 & 0 & 384426.0 & 799509.0 & $\\dots$ \\\\\n",
       "\t18 & 17 & AB1 0BD & AB1  0BD & AB1 0BD & 198001 & 199606.0 & 0 & 383801.0 & 798711.0 & $\\dots$ \\\\\n",
       "\t19 & 18 & AB1 0BE & AB1  0BE & AB1 0BE & 199103 & 199606.0 & 0 & 384495.0 & 799987.0 & $\\dots$ \\\\\n",
       "\t20 & 19 & AB1 0BJ & AB1  0BJ & AB1 0BJ & 198001 & 199606.0 & 0 & 384198.0 & 798965.0 & $\\dots$ \\\\\n",
       "\t21 & 20 & AB1 0BL & AB1  0BL & AB1 0BL & 198001 & 199606.0 & 0 & 385153.0 & 799019.0 & $\\dots$ \\\\\n",
       "\t22 & 21 & AB1 0BN & AB1  0BN & AB1 0BN & 198001 & 199606.0 & 0 & 384454.0 & 797616.0 & $\\dots$ \\\\\n",
       "\t23 & 22 & AB1 0BP & AB1  0BP & AB1 0BP & 198001 & 199606.0 & 0 & 383592.0 & 797390.0 & $\\dots$ \\\\\n",
       "\t24 & 23 & AB1 0BQ & AB1  0BQ & AB1 0BQ & 198001 & 199606.0 & 0 & 382833.0 & 797458.0 & $\\dots$ \\\\\n",
       "\t25 & 24 & AB1 0BR & AB1  0BR & AB1 0BR & 198001 & 199606.0 & 0 & 383218.0 & 796825.0 & $\\dots$ \\\\\n",
       "\t26 & 25 & AB1 0BS & AB1  0BS & AB1 0BS & 198001 & 199606.0 & 0 & 384007.0 & 795624.0 & $\\dots$ \\\\\n",
       "\t27 & 26 & AB1 0BT & AB1  0BT & AB1 0BT & 198001 & 199606.0 & 0 & 384932.0 & 796254.0 & $\\dots$ \\\\\n",
       "\t28 & 27 & AB1 0BX & AB1  0BX & AB1 0BX & 198001 & 199606.0 & 0 & 385814.0 & 797610.0 & $\\dots$ \\\\\n",
       "\t29 & 28 & AB1 0BY & AB1  0BY & AB1 0BY & 198605 & 199606.0 & 0 & 385753.0 & 799055.0 & $\\dots$ \\\\\n",
       "\t30 & 29 & AB1 0BZ & AB1  0BZ & AB1 0BZ & 198605 & 199606.0 & 0 & 385637.0 & 799105.0 & $\\dots$ \\\\\n",
       "\t$\\dots$ & $\\dots$ & $\\dots$ & $\\dots$ & $\\dots$ & $\\dots$ & $\\dots$ & $\\dots$ & $\\dots$ & $\\dots$ &  \\\\\n",
       "\\end{tabular}\n"
      ],
      "text/plain": [
       "\u001b[1m400000×42 DataFrame\u001b[0m\n",
       "\u001b[1m    Row \u001b[0m│\u001b[1m Column1 \u001b[0m\u001b[1m pcd     \u001b[0m\u001b[1m pcd2     \u001b[0m\u001b[1m pcds     \u001b[0m\u001b[1m dointr \u001b[0m\u001b[1m doterm    \u001b[0m\u001b[1m usertype \u001b[0m\u001b[1m o\u001b[0m ⋯\n",
       "\u001b[1m        \u001b[0m│\u001b[90m Int64   \u001b[0m\u001b[90m String7 \u001b[0m\u001b[90m String15 \u001b[0m\u001b[90m String15 \u001b[0m\u001b[90m Int64  \u001b[0m\u001b[90m Float64?  \u001b[0m\u001b[90m Int64    \u001b[0m\u001b[90m F\u001b[0m ⋯\n",
       "────────┼───────────────────────────────────────────────────────────────────────\n",
       "      1 │       0  AB1 0AA  AB1  0AA  AB1 0AA   198001   199606.0         0  3 ⋯\n",
       "      2 │       1  AB1 0AB  AB1  0AB  AB1 0AB   198001   199606.0         0  3\n",
       "      3 │       2  AB1 0AD  AB1  0AD  AB1 0AD   198001   199606.0         0  3\n",
       "      4 │       3  AB1 0AE  AB1  0AE  AB1 0AE   199402   199606.0         0  3\n",
       "      5 │       4  AB1 0AF  AB1  0AF  AB1 0AF   199012   199207.0         1  3 ⋯\n",
       "      6 │       5  AB1 0AG  AB1  0AG  AB1 0AG   199012   199207.0         1  3\n",
       "      7 │       6  AB1 0AJ  AB1  0AJ  AB1 0AJ   198001   199606.0         0  3\n",
       "      8 │       7  AB1 0AL  AB1  0AL  AB1 0AL   198001   199606.0         0  3\n",
       "      9 │       8  AB1 0AN  AB1  0AN  AB1 0AN   198001   199606.0         1  3 ⋯\n",
       "     10 │       9  AB1 0AP  AB1  0AP  AB1 0AP   198001   199606.0         0  3\n",
       "     11 │      10  AB1 0AQ  AB1  0AQ  AB1 0AQ   198001   199606.0         0  3\n",
       "   ⋮    │    ⋮        ⋮        ⋮         ⋮        ⋮         ⋮         ⋮        ⋱\n",
       " 399991 │  399990  CB8 9FX  CB8  9FX  CB8 9FX   202107 \u001b[90m missing   \u001b[0m        0  5\n",
       " 399992 │  399991  CB8 9FY  CB8  9FY  CB8 9FY   201910 \u001b[90m missing   \u001b[0m        0  5 ⋯\n",
       " 399993 │  399992  CB8 9GA  CB8  9GA  CB8 9GA   199712   200603.0         1  5\n",
       " 399994 │  399993  CB8 9GB  CB8  9GB  CB8 9GB   199801   200009.0         1  5\n",
       " 399995 │  399994  CB8 9GD  CB8  9GD  CB8 9GD   199806   199906.0         1  5\n",
       " 399996 │  399995  CB8 9GE  CB8  9GE  CB8 9GE   199806   199912.0         1  5 ⋯\n",
       " 399997 │  399996  CB8 9GF  CB8  9GF  CB8 9GF   199806   199912.0         1  5\n",
       " 399998 │  399997  CB8 9GG  CB8  9GG  CB8 9GG   199812   200101.0         1  5\n",
       " 399999 │  399998  CB8 9GH  CB8  9GH  CB8 9GH   199812   200310.0         1  5\n",
       " 400000 │  399999  CB8 9GJ  CB8  9GJ  CB8 9GJ   199812   199906.0         1  5 ⋯\n",
       "\u001b[36m                                              35 columns and 399979 rows omitted\u001b[0m"
      ]
     },
     "execution_count": 6,
     "metadata": {},
     "output_type": "execute_result"
    }
   ],
   "source": [
    "df_pcd_2022 = DataFrame(CSV.File(\"/home/james/programming/Compare_r_python_julia/Data/df_pcd_2022_sample.csv\"))"
   ]
  },
  {
   "cell_type": "code",
   "execution_count": 7,
   "id": "5a9ca278-2254-46f7-a5b4-c63bfd179a16",
   "metadata": {},
   "outputs": [
    {
     "data": {
      "text/html": [
       "<div class=\"data-frame\"><p>400,000 rows × 51 columns (omitted printing of 42 columns)</p><table class=\"data-frame\"><thead><tr><th></th><th>Column1</th><th>pcd</th><th>pcd2</th><th>pcds</th><th>dointr</th><th>doterm</th><th>oscty</th><th>ced</th><th>oslaua</th></tr><tr><th></th><th title=\"Int64\">Int64</th><th title=\"String7\">String7</th><th title=\"String15\">String15</th><th title=\"String15\">String15</th><th title=\"Int64\">Int64</th><th title=\"Union{Missing, Float64}\">Float64?</th><th title=\"Union{Missing, String15}\">String15?</th><th title=\"Union{Missing, String15}\">String15?</th><th title=\"Union{Missing, String15}\">String15?</th></tr></thead><tbody><tr><th>1</th><td>219931</td><td>BN180WA</td><td>BN18 0WA</td><td>BN18 0WA</td><td>200007</td><td>200009.0</td><td>E10000032</td><td>E58001642</td><td>E07000224</td></tr><tr><th>2</th><td>267332</td><td>BS182DH</td><td>BS18 2DH</td><td>BS18 2DH</td><td>198001</td><td>199708.0</td><td>E99999999</td><td>E99999999</td><td>E06000022</td></tr><tr><th>3</th><td>361219</td><td>CA102DR</td><td>CA10 2DR</td><td>CA10 2DR</td><td>198001</td><td><em>missing</em></td><td>E10000006</td><td>E58000131</td><td>E07000030</td></tr><tr><th>4</th><td>132719</td><td>BB101YA</td><td>BB10 1YA</td><td>BB10 1YA</td><td>198001</td><td><em>missing</em></td><td>E10000017</td><td>E58000757</td><td>E07000117</td></tr><tr><th>5</th><td>158084</td><td>BD194EY</td><td>BD19 4EY</td><td>BD19 4EY</td><td>199501</td><td><em>missing</em></td><td>E99999999</td><td>E99999999</td><td>E08000034</td></tr><tr><th>6</th><td>319381</td><td>BT344HQ</td><td>BT34 4HQ</td><td>BT34 4HQ</td><td>198412</td><td><em>missing</em></td><td>N99999999</td><td>N99999999</td><td>N09000010</td></tr><tr><th>7</th><td>355819</td><td>BT9 6GB</td><td>BT9  6GB</td><td>BT9 6GB</td><td>200210</td><td><em>missing</em></td><td>N99999999</td><td>N99999999</td><td>N09000003</td></tr><tr><th>8</th><td>265224</td><td>BS169NW</td><td>BS16 9NW</td><td>BS16 9NW</td><td>199712</td><td><em>missing</em></td><td>E99999999</td><td>E99999999</td><td>E06000025</td></tr><tr><th>9</th><td>95680</td><td>B74 3SH</td><td>B74  3SH</td><td>B74 3SH</td><td>198001</td><td><em>missing</em></td><td>E99999999</td><td>E99999999</td><td>E08000030</td></tr><tr><th>10</th><td>162754</td><td>BD226EY</td><td>BD22 6EY</td><td>BD22 6EY</td><td>198001</td><td><em>missing</em></td><td>E99999999</td><td>E99999999</td><td>E08000032</td></tr><tr><th>11</th><td>338921</td><td>BT536QF</td><td>BT53 6QF</td><td>BT53 6QF</td><td>198412</td><td><em>missing</em></td><td>N99999999</td><td>N99999999</td><td>N09000004</td></tr><tr><th>12</th><td>336525</td><td>BT5 5RT</td><td>BT5  5RT</td><td>BT5 5RT</td><td>199812</td><td>200112.0</td><td>N99999999</td><td>N99999999</td><td>N09000003</td></tr><tr><th>13</th><td>45260</td><td>AL5 1LJ</td><td>AL5  1LJ</td><td>AL5 1LJ</td><td>198001</td><td><em>missing</em></td><td>E10000015</td><td>E58000626</td><td>E07000240</td></tr><tr><th>14</th><td>214582</td><td>BN131BN</td><td>BN13 1BN</td><td>BN13 1BN</td><td>198001</td><td><em>missing</em></td><td>E10000032</td><td>E58001661</td><td>E07000229</td></tr><tr><th>15</th><td>34994</td><td>AB544WB</td><td>AB54 4WB</td><td>AB54 4WB</td><td>199806</td><td>199906.0</td><td>S99999999</td><td>S99999999</td><td>S12000034</td></tr><tr><th>16</th><td>30446</td><td>AB5 5TZ</td><td>AB5  5TZ</td><td>AB5 5TZ</td><td>197401</td><td>199008.0</td><td>S99999999</td><td>S99999999</td><td>S12000034</td></tr><tr><th>17</th><td>184787</td><td>BH220BE</td><td>BH22 0BE</td><td>BH22 0BE</td><td>198001</td><td><em>missing</em></td><td>E10000009</td><td>E58000333</td><td>E07000049</td></tr><tr><th>18</th><td>242632</td><td>BN993WD</td><td>BN99 3WD</td><td>BN99 3WD</td><td>201108</td><td><em>missing</em></td><td>E10000032</td><td>E58001644</td><td>E07000229</td></tr><tr><th>19</th><td>356656</td><td>BT922BW</td><td>BT92 2BW</td><td>BT92 2BW</td><td>199512</td><td><em>missing</em></td><td>N99999999</td><td>N99999999</td><td>N09000006</td></tr><tr><th>20</th><td>255917</td><td>BS107FH</td><td>BS10 7FH</td><td>BS10 7FH</td><td>200907</td><td><em>missing</em></td><td>E99999999</td><td>E99999999</td><td>E06000023</td></tr><tr><th>21</th><td>380568</td><td>CB2 1TH</td><td>CB2  1TH</td><td>CB2 1TH</td><td>198001</td><td>200307.0</td><td>E10000003</td><td>E58000078</td><td>E07000008</td></tr><tr><th>22</th><td>121631</td><td>BA2 6RP</td><td>BA2  6RP</td><td>BA2 6RP</td><td>198001</td><td><em>missing</em></td><td>E99999999</td><td>E99999999</td><td>E06000022</td></tr><tr><th>23</th><td>308779</td><td>BT209EN</td><td>BT20 9EN</td><td>BT20 9EN</td><td>201102</td><td><em>missing</em></td><td>N99999999</td><td>N99999999</td><td>N09000011</td></tr><tr><th>24</th><td>150991</td><td>BD100QD</td><td>BD10 0QD</td><td>BD10 0QD</td><td>198001</td><td><em>missing</em></td><td>E99999999</td><td>E99999999</td><td>E08000032</td></tr><tr><th>25</th><td>60001</td><td>B2  5HL</td><td>B2   5HL</td><td>B2 5HL</td><td>198001</td><td>199112.0</td><td>E99999999</td><td>E99999999</td><td>E08000025</td></tr><tr><th>26</th><td>117635</td><td>BA146NN</td><td>BA14 6NN</td><td>BA14 6NN</td><td>199208</td><td><em>missing</em></td><td>E99999999</td><td>E99999999</td><td>E06000054</td></tr><tr><th>27</th><td>136503</td><td>BB186DB</td><td>BB18 6DB</td><td>BB18 6DB</td><td>199712</td><td><em>missing</em></td><td>E10000017</td><td>E58000800</td><td>E07000122</td></tr><tr><th>28</th><td>384744</td><td>CB246AN</td><td>CB24 6AN</td><td>CB24 6AN</td><td>200609</td><td><em>missing</em></td><td>E10000003</td><td>E58000102</td><td>E07000012</td></tr><tr><th>29</th><td>233521</td><td>BN3 7YF</td><td>BN3  7YF</td><td>BN3 7YF</td><td>200307</td><td>200806.0</td><td>E99999999</td><td>E99999999</td><td>E06000043</td></tr><tr><th>30</th><td>151877</td><td>BD112BS</td><td>BD11 2BS</td><td>BD11 2BS</td><td>198001</td><td><em>missing</em></td><td>E99999999</td><td>E99999999</td><td>E08000034</td></tr><tr><th>&vellip;</th><td>&vellip;</td><td>&vellip;</td><td>&vellip;</td><td>&vellip;</td><td>&vellip;</td><td>&vellip;</td><td>&vellip;</td><td>&vellip;</td><td>&vellip;</td></tr></tbody></table></div>"
      ],
      "text/latex": [
       "\\begin{tabular}{r|cccccccccc}\n",
       "\t& Column1 & pcd & pcd2 & pcds & dointr & doterm & oscty & ced & oslaua & \\\\\n",
       "\t\\hline\n",
       "\t& Int64 & String7 & String15 & String15 & Int64 & Float64? & String15? & String15? & String15? & \\\\\n",
       "\t\\hline\n",
       "\t1 & 219931 & BN180WA & BN18 0WA & BN18 0WA & 200007 & 200009.0 & E10000032 & E58001642 & E07000224 & $\\dots$ \\\\\n",
       "\t2 & 267332 & BS182DH & BS18 2DH & BS18 2DH & 198001 & 199708.0 & E99999999 & E99999999 & E06000022 & $\\dots$ \\\\\n",
       "\t3 & 361219 & CA102DR & CA10 2DR & CA10 2DR & 198001 & \\emph{missing} & E10000006 & E58000131 & E07000030 & $\\dots$ \\\\\n",
       "\t4 & 132719 & BB101YA & BB10 1YA & BB10 1YA & 198001 & \\emph{missing} & E10000017 & E58000757 & E07000117 & $\\dots$ \\\\\n",
       "\t5 & 158084 & BD194EY & BD19 4EY & BD19 4EY & 199501 & \\emph{missing} & E99999999 & E99999999 & E08000034 & $\\dots$ \\\\\n",
       "\t6 & 319381 & BT344HQ & BT34 4HQ & BT34 4HQ & 198412 & \\emph{missing} & N99999999 & N99999999 & N09000010 & $\\dots$ \\\\\n",
       "\t7 & 355819 & BT9 6GB & BT9  6GB & BT9 6GB & 200210 & \\emph{missing} & N99999999 & N99999999 & N09000003 & $\\dots$ \\\\\n",
       "\t8 & 265224 & BS169NW & BS16 9NW & BS16 9NW & 199712 & \\emph{missing} & E99999999 & E99999999 & E06000025 & $\\dots$ \\\\\n",
       "\t9 & 95680 & B74 3SH & B74  3SH & B74 3SH & 198001 & \\emph{missing} & E99999999 & E99999999 & E08000030 & $\\dots$ \\\\\n",
       "\t10 & 162754 & BD226EY & BD22 6EY & BD22 6EY & 198001 & \\emph{missing} & E99999999 & E99999999 & E08000032 & $\\dots$ \\\\\n",
       "\t11 & 338921 & BT536QF & BT53 6QF & BT53 6QF & 198412 & \\emph{missing} & N99999999 & N99999999 & N09000004 & $\\dots$ \\\\\n",
       "\t12 & 336525 & BT5 5RT & BT5  5RT & BT5 5RT & 199812 & 200112.0 & N99999999 & N99999999 & N09000003 & $\\dots$ \\\\\n",
       "\t13 & 45260 & AL5 1LJ & AL5  1LJ & AL5 1LJ & 198001 & \\emph{missing} & E10000015 & E58000626 & E07000240 & $\\dots$ \\\\\n",
       "\t14 & 214582 & BN131BN & BN13 1BN & BN13 1BN & 198001 & \\emph{missing} & E10000032 & E58001661 & E07000229 & $\\dots$ \\\\\n",
       "\t15 & 34994 & AB544WB & AB54 4WB & AB54 4WB & 199806 & 199906.0 & S99999999 & S99999999 & S12000034 & $\\dots$ \\\\\n",
       "\t16 & 30446 & AB5 5TZ & AB5  5TZ & AB5 5TZ & 197401 & 199008.0 & S99999999 & S99999999 & S12000034 & $\\dots$ \\\\\n",
       "\t17 & 184787 & BH220BE & BH22 0BE & BH22 0BE & 198001 & \\emph{missing} & E10000009 & E58000333 & E07000049 & $\\dots$ \\\\\n",
       "\t18 & 242632 & BN993WD & BN99 3WD & BN99 3WD & 201108 & \\emph{missing} & E10000032 & E58001644 & E07000229 & $\\dots$ \\\\\n",
       "\t19 & 356656 & BT922BW & BT92 2BW & BT92 2BW & 199512 & \\emph{missing} & N99999999 & N99999999 & N09000006 & $\\dots$ \\\\\n",
       "\t20 & 255917 & BS107FH & BS10 7FH & BS10 7FH & 200907 & \\emph{missing} & E99999999 & E99999999 & E06000023 & $\\dots$ \\\\\n",
       "\t21 & 380568 & CB2 1TH & CB2  1TH & CB2 1TH & 198001 & 200307.0 & E10000003 & E58000078 & E07000008 & $\\dots$ \\\\\n",
       "\t22 & 121631 & BA2 6RP & BA2  6RP & BA2 6RP & 198001 & \\emph{missing} & E99999999 & E99999999 & E06000022 & $\\dots$ \\\\\n",
       "\t23 & 308779 & BT209EN & BT20 9EN & BT20 9EN & 201102 & \\emph{missing} & N99999999 & N99999999 & N09000011 & $\\dots$ \\\\\n",
       "\t24 & 150991 & BD100QD & BD10 0QD & BD10 0QD & 198001 & \\emph{missing} & E99999999 & E99999999 & E08000032 & $\\dots$ \\\\\n",
       "\t25 & 60001 & B2  5HL & B2   5HL & B2 5HL & 198001 & 199112.0 & E99999999 & E99999999 & E08000025 & $\\dots$ \\\\\n",
       "\t26 & 117635 & BA146NN & BA14 6NN & BA14 6NN & 199208 & \\emph{missing} & E99999999 & E99999999 & E06000054 & $\\dots$ \\\\\n",
       "\t27 & 136503 & BB186DB & BB18 6DB & BB18 6DB & 199712 & \\emph{missing} & E10000017 & E58000800 & E07000122 & $\\dots$ \\\\\n",
       "\t28 & 384744 & CB246AN & CB24 6AN & CB24 6AN & 200609 & \\emph{missing} & E10000003 & E58000102 & E07000012 & $\\dots$ \\\\\n",
       "\t29 & 233521 & BN3 7YF & BN3  7YF & BN3 7YF & 200307 & 200806.0 & E99999999 & E99999999 & E06000043 & $\\dots$ \\\\\n",
       "\t30 & 151877 & BD112BS & BD11 2BS & BD11 2BS & 198001 & \\emph{missing} & E99999999 & E99999999 & E08000034 & $\\dots$ \\\\\n",
       "\t$\\dots$ & $\\dots$ & $\\dots$ & $\\dots$ & $\\dots$ & $\\dots$ & $\\dots$ & $\\dots$ & $\\dots$ & $\\dots$ &  \\\\\n",
       "\\end{tabular}\n"
      ],
      "text/plain": [
       "\u001b[1m400000×51 DataFrame\u001b[0m\n",
       "\u001b[1m    Row \u001b[0m│\u001b[1m Column1 \u001b[0m\u001b[1m pcd     \u001b[0m\u001b[1m pcd2     \u001b[0m\u001b[1m pcds     \u001b[0m\u001b[1m dointr \u001b[0m\u001b[1m doterm    \u001b[0m\u001b[1m oscty     \u001b[0m\u001b[1m \u001b[0m ⋯\n",
       "\u001b[1m        \u001b[0m│\u001b[90m Int64   \u001b[0m\u001b[90m String7 \u001b[0m\u001b[90m String15 \u001b[0m\u001b[90m String15 \u001b[0m\u001b[90m Int64  \u001b[0m\u001b[90m Float64?  \u001b[0m\u001b[90m String15? \u001b[0m\u001b[90m \u001b[0m ⋯\n",
       "────────┼───────────────────────────────────────────────────────────────────────\n",
       "      1 │  219931  BN180WA  BN18 0WA  BN18 0WA  200007   200009.0  E10000032   ⋯\n",
       "      2 │  267332  BS182DH  BS18 2DH  BS18 2DH  198001   199708.0  E99999999\n",
       "      3 │  361219  CA102DR  CA10 2DR  CA10 2DR  198001 \u001b[90m missing   \u001b[0m E10000006\n",
       "      4 │  132719  BB101YA  BB10 1YA  BB10 1YA  198001 \u001b[90m missing   \u001b[0m E10000017\n",
       "      5 │  158084  BD194EY  BD19 4EY  BD19 4EY  199501 \u001b[90m missing   \u001b[0m E99999999   ⋯\n",
       "      6 │  319381  BT344HQ  BT34 4HQ  BT34 4HQ  198412 \u001b[90m missing   \u001b[0m N99999999\n",
       "      7 │  355819  BT9 6GB  BT9  6GB  BT9 6GB   200210 \u001b[90m missing   \u001b[0m N99999999\n",
       "      8 │  265224  BS169NW  BS16 9NW  BS16 9NW  199712 \u001b[90m missing   \u001b[0m E99999999\n",
       "      9 │   95680  B74 3SH  B74  3SH  B74 3SH   198001 \u001b[90m missing   \u001b[0m E99999999   ⋯\n",
       "     10 │  162754  BD226EY  BD22 6EY  BD22 6EY  198001 \u001b[90m missing   \u001b[0m E99999999\n",
       "     11 │  338921  BT536QF  BT53 6QF  BT53 6QF  198412 \u001b[90m missing   \u001b[0m N99999999\n",
       "   ⋮    │    ⋮        ⋮        ⋮         ⋮        ⋮         ⋮          ⋮       ⋱\n",
       " 399991 │   89163  B67 7HY  B67  7HY  B67 7HY   199806   200207.0  E99999999\n",
       " 399992 │   72586  B34 7JQ  B34  7JQ  B34 7JQ   199301 \u001b[90m missing   \u001b[0m E99999999   ⋯\n",
       " 399993 │  316261  BT307WJ  BT30 7WJ  BT30 7WJ  200910 \u001b[90m missing   \u001b[0m N99999999\n",
       " 399994 │   95412  B74 2XD  B74  2XD  B74 2XD   198001 \u001b[90m missing   \u001b[0m E99999999\n",
       " 399995 │   19523  AB392LR  AB39 2LR  AB39 2LR  199606 \u001b[90m missing   \u001b[0m S99999999\n",
       " 399996 │   26726  AB434XU  AB43 4XU  AB43 4XU  199008   199606.0  S99999999   ⋯\n",
       " 399997 │  170146  BD7 2DG  BD7  2DG  BD7 2DG   198001 \u001b[90m missing   \u001b[0m E99999999\n",
       " 399998 │  151557  BD109LR  BD10 9LR  BD10 9LR  198001   199806.0  E99999999\n",
       " 399999 │   56628  B16 8UQ  B16  8UQ  B16 8UQ   198001 \u001b[90m missing   \u001b[0m E99999999\n",
       " 400000 │   44092  AL4 0AQ  AL4  0AQ  AL4 0AQ   198001 \u001b[90m missing   \u001b[0m E10000015   ⋯\n",
       "\u001b[36m                                              44 columns and 399979 rows omitted\u001b[0m"
      ]
     },
     "execution_count": 7,
     "metadata": {},
     "output_type": "execute_result"
    }
   ],
   "source": [
    "df_pcd_2019 = DataFrame(CSV.File(\"/home/james/programming/Compare_r_python_julia/Data/df_pcd_2019_sample.csv\"))"
   ]
  },
  {
   "cell_type": "code",
   "execution_count": 9,
   "id": "3668a5f3-e496-459e-bf07-b0ee9b213d87",
   "metadata": {},
   "outputs": [
    {
     "data": {
      "text/plain": [
       "BenchmarkTools.Trial: 6 samples with 1 evaluation.\n",
       " Range \u001b[90m(\u001b[39m\u001b[36m\u001b[1mmin\u001b[22m\u001b[39m … \u001b[35mmax\u001b[39m\u001b[90m):  \u001b[39m\u001b[36m\u001b[1m3.357 s\u001b[22m\u001b[39m … \u001b[35m  3.494 s\u001b[39m  \u001b[90m┊\u001b[39m GC \u001b[90m(\u001b[39mmin … max\u001b[90m): \u001b[39m2.97% … 3.69%\n",
       " Time  \u001b[90m(\u001b[39m\u001b[34m\u001b[1mmedian\u001b[22m\u001b[39m\u001b[90m):     \u001b[39m\u001b[34m\u001b[1m3.400 s              \u001b[22m\u001b[39m\u001b[90m┊\u001b[39m GC \u001b[90m(\u001b[39mmedian\u001b[90m):    \u001b[39m3.31%\n",
       " Time  \u001b[90m(\u001b[39m\u001b[32m\u001b[1mmean\u001b[22m\u001b[39m ± \u001b[32mσ\u001b[39m\u001b[90m):   \u001b[39m\u001b[32m\u001b[1m3.407 s\u001b[22m\u001b[39m ± \u001b[32m48.569 ms\u001b[39m  \u001b[90m┊\u001b[39m GC \u001b[90m(\u001b[39mmean ± σ\u001b[90m):  \u001b[39m3.48% ± 0.95%\n",
       "\n",
       "  \u001b[39m█\u001b[39m \u001b[39m \u001b[39m \u001b[39m \u001b[39m█\u001b[39m \u001b[39m \u001b[39m \u001b[39m \u001b[39m \u001b[39m \u001b[39m \u001b[39m \u001b[39m \u001b[39m \u001b[39m \u001b[39m█\u001b[34m█\u001b[39m\u001b[39m \u001b[39m \u001b[32m \u001b[39m\u001b[39m \u001b[39m \u001b[39m \u001b[39m \u001b[39m█\u001b[39m \u001b[39m \u001b[39m \u001b[39m \u001b[39m \u001b[39m \u001b[39m \u001b[39m \u001b[39m \u001b[39m \u001b[39m \u001b[39m \u001b[39m \u001b[39m \u001b[39m \u001b[39m \u001b[39m \u001b[39m \u001b[39m \u001b[39m \u001b[39m \u001b[39m \u001b[39m \u001b[39m \u001b[39m \u001b[39m \u001b[39m \u001b[39m \u001b[39m \u001b[39m█\u001b[39m \u001b[39m \n",
       "  \u001b[39m█\u001b[39m▁\u001b[39m▁\u001b[39m▁\u001b[39m▁\u001b[39m█\u001b[39m▁\u001b[39m▁\u001b[39m▁\u001b[39m▁\u001b[39m▁\u001b[39m▁\u001b[39m▁\u001b[39m▁\u001b[39m▁\u001b[39m▁\u001b[39m▁\u001b[39m█\u001b[34m█\u001b[39m\u001b[39m▁\u001b[39m▁\u001b[32m▁\u001b[39m\u001b[39m▁\u001b[39m▁\u001b[39m▁\u001b[39m▁\u001b[39m█\u001b[39m▁\u001b[39m▁\u001b[39m▁\u001b[39m▁\u001b[39m▁\u001b[39m▁\u001b[39m▁\u001b[39m▁\u001b[39m▁\u001b[39m▁\u001b[39m▁\u001b[39m▁\u001b[39m▁\u001b[39m▁\u001b[39m▁\u001b[39m▁\u001b[39m▁\u001b[39m▁\u001b[39m▁\u001b[39m▁\u001b[39m▁\u001b[39m▁\u001b[39m▁\u001b[39m▁\u001b[39m▁\u001b[39m▁\u001b[39m▁\u001b[39m▁\u001b[39m▁\u001b[39m█\u001b[39m \u001b[39m▁\n",
       "  3.36 s\u001b[90m         Histogram: frequency by time\u001b[39m        3.49 s \u001b[0m\u001b[1m<\u001b[22m\n",
       "\n",
       " Memory estimate\u001b[90m: \u001b[39m\u001b[33m1.19 GiB\u001b[39m, allocs estimate\u001b[90m: \u001b[39m\u001b[33m23128819\u001b[39m."
      ]
     },
     "execution_count": 9,
     "metadata": {},
     "output_type": "execute_result"
    }
   ],
   "source": [
    "@benchmark outerjoin(df_pcd_2022, df_pcd_2019, on=[:pcd, :pcd2, :oseast1m, :oac11,:lat, :long,:imd, :lsoa11, :msoa11], makeunique=true, matchmissing=:equal)"
   ]
  },
  {
   "cell_type": "code",
   "execution_count": null,
   "id": "49e115a7-e59f-4807-aa2f-c3e8965629d8",
   "metadata": {},
   "outputs": [],
   "source": []
  }
 ],
 "metadata": {
  "kernelspec": {
   "display_name": "Julia 1.7.1",
   "language": "julia",
   "name": "julia-1.7"
  },
  "language_info": {
   "file_extension": ".jl",
   "mimetype": "application/julia",
   "name": "julia",
   "version": "1.7.1"
  }
 },
 "nbformat": 4,
 "nbformat_minor": 5
}
