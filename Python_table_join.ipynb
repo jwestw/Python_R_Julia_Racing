{
 "cells": [
  {
   "cell_type": "code",
   "execution_count": 1,
   "id": "7b679d0b-206e-4f39-918c-bef60059c625",
   "metadata": {},
   "outputs": [],
   "source": [
    "import pandas as pd"
   ]
  },
  {
   "cell_type": "code",
   "execution_count": 2,
   "id": "f5e3f5f7-8fe4-4ed6-911f-832a4868e6cc",
   "metadata": {},
   "outputs": [
    {
     "name": "stderr",
     "output_type": "stream",
     "text": [
      "<ipython-input-2-19246052c06e>:1: DtypeWarning: Columns (32,37) have mixed types. Specify dtype option on import or set low_memory=False.\n",
      "  df_pcd_2022 = pd.read_csv(\"/home/james/programming/Compare_r_python_julia/Data/df_pcd_2022_sample.csv\")\n"
     ]
    }
   ],
   "source": [
    "df_pcd_2022 = pd.read_csv(\"/home/james/programming/Compare_r_python_julia/Data/df_pcd_2022_sample.csv\")"
   ]
  },
  {
   "cell_type": "code",
   "execution_count": 3,
   "id": "56ea07b6-c7a9-4b74-9ca8-a5beaa01e47b",
   "metadata": {},
   "outputs": [],
   "source": [
    "df_pcd_2019 = pd.read_csv(\"/home/james/programming/Compare_r_python_julia/Data/df_pcd_2019_sample.csv\")"
   ]
  },
  {
   "cell_type": "code",
   "execution_count": 4,
   "id": "22ab3d3f-88ae-4a7f-9d66-09634c2eeeb0",
   "metadata": {},
   "outputs": [
    {
     "name": "stdout",
     "output_type": "stream",
     "text": [
      "3.94 s ± 1.25 s per loop (mean ± std. dev. of 7 runs, 1 loop each)\n"
     ]
    }
   ],
   "source": [
    "%%timeit\n",
    "df_output = pd.merge(df_pcd_2019, df_pcd_2022, on=['pcd', 'pcd2','oseast1m', 'oac11','lat','long','imd', 'lsoa11', 'msoa11'], how='outer')"
   ]
  },
  {
   "cell_type": "code",
   "execution_count": null,
   "id": "75f23372-ba94-4296-a591-99f82194f1fd",
   "metadata": {},
   "outputs": [],
   "source": []
  }
 ],
 "metadata": {
  "kernelspec": {
   "display_name": "Python 3",
   "language": "python",
   "name": "python3"
  },
  "language_info": {
   "codemirror_mode": {
    "name": "ipython",
    "version": 3
   },
   "file_extension": ".py",
   "mimetype": "text/x-python",
   "name": "python",
   "nbconvert_exporter": "python",
   "pygments_lexer": "ipython3",
   "version": "3.9.5"
  }
 },
 "nbformat": 4,
 "nbformat_minor": 5
}
