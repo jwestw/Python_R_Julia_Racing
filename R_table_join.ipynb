{
 "cells": [
  {
   "cell_type": "code",
   "execution_count": 5,
   "id": "85b6de30-4f66-4891-93e2-f4b7b65e2581",
   "metadata": {},
   "outputs": [],
   "source": [
    "library(tictoc)"
   ]
  },
  {
   "cell_type": "code",
   "execution_count": 6,
   "id": "ed7a137e-cdb9-4b12-ba47-3b2f5d82b35c",
   "metadata": {},
   "outputs": [],
   "source": [
    "\n",
    "df_pcd_2022 <- read.csv(\"/home/james/programming/Compare_r_python_julia/Data/df_pcd_2022_sample.csv\")\n"
   ]
  },
  {
   "cell_type": "code",
   "execution_count": 7,
   "id": "1c9f6176-fa82-4196-b6fc-c2079fb7ab94",
   "metadata": {},
   "outputs": [],
   "source": [
    "\n",
    "df_pcd_2019 <- read.csv(\"/home/james/programming/Compare_r_python_julia/Data/df_pcd_2019_sample.csv\")\n"
   ]
  },
  {
   "cell_type": "code",
   "execution_count": 8,
   "id": "d43848d5-eb08-4d00-942f-77c10d469545",
   "metadata": {},
   "outputs": [
    {
     "name": "stdout",
     "output_type": "stream",
     "text": [
      "merging function: 12.697 sec elapsed\n"
     ]
    }
   ],
   "source": [
    "tic(\"merging function\")\n",
    "df_output <- merge(df_pcd_2019, df_pcd_2022, by=c('pcd', 'pcd2','oseast1m', 'oac11','lat','long','imd', 'lsoa11', 'msoa11'), all=TRUE)\n",
    "toc()"
   ]
  },
  {
   "cell_type": "code",
   "execution_count": null,
   "id": "30edc46f-538d-42c8-87f7-878fdf991aff",
   "metadata": {},
   "outputs": [],
   "source": [
    "dim(df_output)"
   ]
  }
 ],
 "metadata": {
  "kernelspec": {
   "display_name": "R",
   "language": "R",
   "name": "ir"
  },
  "language_info": {
   "codemirror_mode": "r",
   "file_extension": ".r",
   "mimetype": "text/x-r-source",
   "name": "R",
   "pygments_lexer": "r",
   "version": "3.6.3"
  }
 },
 "nbformat": 4,
 "nbformat_minor": 5
}
